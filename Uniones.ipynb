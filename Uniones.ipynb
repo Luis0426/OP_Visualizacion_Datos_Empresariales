{
  "nbformat": 4,
  "nbformat_minor": 0,
  "metadata": {
    "colab": {
      "provenance": [],
      "authorship_tag": "ABX9TyPYiP6d6e95FVE0IjLz6cnh",
      "include_colab_link": true
    },
    "kernelspec": {
      "name": "python3",
      "display_name": "Python 3"
    },
    "language_info": {
      "name": "python"
    }
  },
  "cells": [
    {
      "cell_type": "markdown",
      "metadata": {
        "id": "view-in-github",
        "colab_type": "text"
      },
      "source": [
        "<a href=\"https://colab.research.google.com/github/Luis0426/OP_Visualizacion_Datos_Empresariales/blob/main/Uniones.ipynb\" target=\"_parent\"><img src=\"https://colab.research.google.com/assets/colab-badge.svg\" alt=\"Open In Colab\"/></a>"
      ]
    },
    {
      "cell_type": "markdown",
      "source": [
        "# **TIPOS DE UNIONES (JOINS) EN PYTHON:**"
      ],
      "metadata": {
        "id": "8-COXi4Txyo1"
      }
    },
    {
      "cell_type": "markdown",
      "source": [
        "1. Inner Join:**texto en negrita**\n"
      ],
      "metadata": {
        "id": "F2gvvPLbx5j1"
      }
    },
    {
      "cell_type": "markdown",
      "source": [
        "IMPORTAR **LIBRERIAS**"
      ],
      "metadata": {
        "id": "qL20vYssx9kr"
      }
    },
    {
      "cell_type": "code",
      "execution_count": 1,
      "metadata": {
        "id": "FvJAtaqpxsWs"
      },
      "outputs": [],
      "source": [
        "import pandas as pd"
      ]
    },
    {
      "cell_type": "markdown",
      "source": [
        "# CREACION DE DATA **FRAME**"
      ],
      "metadata": {
        "id": "gaaS0meIyK_Z"
      }
    },
    {
      "cell_type": "code",
      "source": [
        "df1 = pd.DataFrame({\n",
        "    'ID': [1,2,3,4],\n",
        "    'Nombre': ['Ana','Juan','Maria','Carlos'],\n",
        "    'Departamento': ['Ventas','IT','Marketing','RH']\n",
        "})\n",
        "df2 = pd.DataFrame({\n",
        "    'ID': [3,4,5,6],\n",
        "    'Salario': [50000,60000,55000,65000]\n",
        "\n",
        "})\n",
        "print(\"Data Frame 1:\")\n",
        "print(df1)\n",
        "\n",
        "print(\"\\nData Frame 2:\")\n",
        "print(df2)"
      ],
      "metadata": {
        "colab": {
          "base_uri": "https://localhost:8080/"
        },
        "collapsed": true,
        "id": "p9U0h9_0yQNx",
        "outputId": "1baa1f85-35ce-452e-dbc1-01da4d286ba8"
      },
      "execution_count": 6,
      "outputs": [
        {
          "output_type": "stream",
          "name": "stdout",
          "text": [
            "Data Frame 1:\n",
            "   ID  Nombre Departamento\n",
            "0   1     Ana       Ventas\n",
            "1   2    Juan           IT\n",
            "2   3   Maria    Marketing\n",
            "3   4  Carlos           RH\n",
            "\n",
            "Data Frame 2:\n",
            "   ID  Salario\n",
            "0   3    50000\n",
            "1   4    60000\n",
            "2   5    55000\n",
            "3   6    65000\n"
          ]
        }
      ]
    },
    {
      "cell_type": "markdown",
      "source": [
        "# Fusion Inner"
      ],
      "metadata": {
        "id": "ycE4Nv2pzR5a"
      }
    },
    {
      "cell_type": "code",
      "source": [
        "inner_merge = pd.merge(df1, df2, on='ID', how='inner')\n",
        "print(\"Fusion Inner:\")\n",
        "print(inner_merge)"
      ],
      "metadata": {
        "colab": {
          "base_uri": "https://localhost:8080/"
        },
        "collapsed": true,
        "id": "5fAD_WVWzV0V",
        "outputId": "9c1e3e75-c2ae-4d3b-9d61-d3347184e3a2"
      },
      "execution_count": 4,
      "outputs": [
        {
          "output_type": "stream",
          "name": "stdout",
          "text": [
            "Fusion Inner:\n",
            "   ID  Nombre Departamento  Salario\n",
            "0   3   Maria    Marketing    50000\n",
            "1   4  Carlos           RH    60000\n"
          ]
        }
      ]
    },
    {
      "cell_type": "markdown",
      "source": [
        "# Fusion Outer"
      ],
      "metadata": {
        "id": "0u0QjOHV0Yiv"
      }
    },
    {
      "cell_type": "code",
      "source": [
        "outer_merge = pd.merge(df1, df2, on='ID', how='outer')\n",
        "print(\"Fusion Outer:\")\n",
        "print(outer_merge)\n",
        "\n",
        "#Junta todo"
      ],
      "metadata": {
        "colab": {
          "base_uri": "https://localhost:8080/"
        },
        "collapsed": true,
        "id": "ghFZOS4I0cIO",
        "outputId": "b6ab7206-7ccd-41cd-d59a-36fef27af1a3"
      },
      "execution_count": 7,
      "outputs": [
        {
          "output_type": "stream",
          "name": "stdout",
          "text": [
            "Fusion Outer:\n",
            "   ID  Nombre Departamento  Salario\n",
            "0   1     Ana       Ventas      NaN\n",
            "1   2    Juan           IT      NaN\n",
            "2   3   Maria    Marketing  50000.0\n",
            "3   4  Carlos           RH  60000.0\n",
            "4   5     NaN          NaN  55000.0\n",
            "5   6     NaN          NaN  65000.0\n"
          ]
        }
      ]
    },
    {
      "cell_type": "markdown",
      "source": [
        "# FUSION LEFT"
      ],
      "metadata": {
        "id": "QmVW0Egn03Ep"
      }
    },
    {
      "cell_type": "code",
      "source": [
        "left_merge = pd.merge(df1, df2, on='ID', how='left')\n",
        "print(\"FUSION  LEFT:\")\n",
        "print(left_merge)\n",
        "\n",
        "#Junta basado en la izquierda"
      ],
      "metadata": {
        "colab": {
          "base_uri": "https://localhost:8080/"
        },
        "collapsed": true,
        "id": "ao0GhYH500W1",
        "outputId": "b09d70aa-f9ef-4b3e-fb93-f1a909d9173a"
      },
      "execution_count": 8,
      "outputs": [
        {
          "output_type": "stream",
          "name": "stdout",
          "text": [
            "FUSION  LEFT:\n",
            "   ID  Nombre Departamento  Salario\n",
            "0   1     Ana       Ventas      NaN\n",
            "1   2    Juan           IT      NaN\n",
            "2   3   Maria    Marketing  50000.0\n",
            "3   4  Carlos           RH  60000.0\n"
          ]
        }
      ]
    },
    {
      "cell_type": "markdown",
      "source": [
        "# FUSION RIGHT"
      ],
      "metadata": {
        "id": "6Q1cZxHF1SZ5"
      }
    },
    {
      "cell_type": "code",
      "source": [
        "right_merge = pd.merge(df1, df2, on='ID', how='right')\n",
        "print(\"FUSION  right:\")\n",
        "print(right_merge)\n",
        "\n",
        "#Junta basado en la DERECHA"
      ],
      "metadata": {
        "colab": {
          "base_uri": "https://localhost:8080/"
        },
        "collapsed": true,
        "id": "KsTj5Hhl1R0z",
        "outputId": "89da5734-7c9f-48b3-eaa9-1773b34db0da"
      },
      "execution_count": 9,
      "outputs": [
        {
          "output_type": "stream",
          "name": "stdout",
          "text": [
            "FUSION  right:\n",
            "   ID  Nombre Departamento  Salario\n",
            "0   3   Maria    Marketing    50000\n",
            "1   4  Carlos           RH    60000\n",
            "2   5     NaN          NaN    55000\n",
            "3   6     NaN          NaN    65000\n"
          ]
        }
      ]
    },
    {
      "cell_type": "markdown",
      "source": [
        "# Concatenacion"
      ],
      "metadata": {
        "id": "fbSo3mLm1lzY"
      }
    },
    {
      "cell_type": "code",
      "source": [
        "#Concatetacion\n",
        "df3 = pd.DataFrame({\n",
        "    'ID': [7,8],\n",
        "    'Nombre': ['Sofia','Pedro'],\n",
        "    'Departamento': ['Finanzas','Ventas']\n",
        "})\n",
        "\n",
        "concatenated = pd.concat([df1,df3])\n",
        "concatenated1 = pd.concat([df1,df2])\n",
        "concatenated2 = pd.concat([concatenated,df3,])\n",
        "print(\"Concatenacion de DataFrames:\")\n",
        "print(concatenated)\n",
        "print(concatenated1)\n",
        "print(concatenated2)"
      ],
      "metadata": {
        "colab": {
          "base_uri": "https://localhost:8080/"
        },
        "id": "5qhHg1uQ1njw",
        "outputId": "3d0bed78-d788-435b-c1fe-a7a8850593a6"
      },
      "execution_count": 14,
      "outputs": [
        {
          "output_type": "stream",
          "name": "stdout",
          "text": [
            "Concatenacion de DataFrames:\n",
            "   ID  Nombre Departamento\n",
            "0   1     Ana       Ventas\n",
            "1   2    Juan           IT\n",
            "2   3   Maria    Marketing\n",
            "3   4  Carlos           RH\n",
            "0   7   Sofia     Finanzas\n",
            "1   8   Pedro       Ventas\n"
          ]
        }
      ]
    }
  ]
}