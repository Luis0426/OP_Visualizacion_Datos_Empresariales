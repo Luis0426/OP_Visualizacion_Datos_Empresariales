{
  "nbformat": 4,
  "nbformat_minor": 0,
  "metadata": {
    "colab": {
      "provenance": [],
      "authorship_tag": "ABX9TyN/fss6fkU6GCOepdLLLLIs",
      "include_colab_link": true
    },
    "kernelspec": {
      "name": "python3",
      "display_name": "Python 3"
    },
    "language_info": {
      "name": "python"
    }
  },
  "cells": [
    {
      "cell_type": "markdown",
      "metadata": {
        "id": "view-in-github",
        "colab_type": "text"
      },
      "source": [
        "<a href=\"https://colab.research.google.com/github/Luis0426/OP_Visualizacion_Datos_Empresariales/blob/main/Operaciones_Basicas.ipynb\" target=\"_parent\"><img src=\"https://colab.research.google.com/assets/colab-badge.svg\" alt=\"Open In Colab\"/></a>"
      ]
    },
    {
      "cell_type": "markdown",
      "source": [
        "# IMPORTACION DE LIBRERIAS Y CREACION DE DATA FRAME"
      ],
      "metadata": {
        "id": "30SKNvNbwgQb"
      }
    },
    {
      "cell_type": "code",
      "execution_count": 7,
      "metadata": {
        "colab": {
          "base_uri": "https://localhost:8080/"
        },
        "collapsed": true,
        "id": "wq276rNGvmoZ",
        "outputId": "e0e98122-fcfd-43e0-83e4-a1ea5924bc12"
      },
      "outputs": [
        {
          "output_type": "stream",
          "name": "stdout",
          "text": [
            "DataFrame Original: \n",
            "   Nombre  Edad     Ciudad  Puntuacion\n",
            "0     Ana    25     Madrid          85\n",
            "1    Juan    30  Barcelona          92\n",
            "2   Maria    22     Madrid          78\n",
            "3  Carlos    28   Valencia          95\n",
            "4   Sofia    35  Barcelona          88\n"
          ]
        }
      ],
      "source": [
        "import pandas as pd\n",
        "import numpy as np\n",
        "\n",
        "df = pd.DataFrame({\n",
        "    'Nombre':['Ana','Juan','Maria','Carlos','Sofia'],\n",
        "    'Edad':[25, 30, 22, 28, 35],\n",
        "    'Ciudad':['Madrid','Barcelona','Madrid','Valencia','Barcelona'],\n",
        "    'Puntuacion':[85,92,78,95,88]\n",
        "})\n",
        "\n",
        "print(\"DataFrame Original: \")\n",
        "print(df)"
      ]
    },
    {
      "cell_type": "markdown",
      "source": [
        "# FILTRADO"
      ],
      "metadata": {
        "id": "ME7xLLn0woIt"
      }
    },
    {
      "cell_type": "code",
      "source": [
        "mayores_25 = df[df['Edad'] > 25]\n",
        "print(\"\\nPersonas Mayores de 25 años:\")\n",
        "print(mayores_25)"
      ],
      "metadata": {
        "colab": {
          "base_uri": "https://localhost:8080/"
        },
        "collapsed": true,
        "id": "2XgGRZ7xwrPG",
        "outputId": "cb632663-41ce-49bb-d8aa-da19e97fca3a"
      },
      "execution_count": 2,
      "outputs": [
        {
          "output_type": "stream",
          "name": "stdout",
          "text": [
            "\n",
            "Personas Mayores de 25 años:\n",
            "   Nombre  Edad       Pais  Puntuacion\n",
            "1    Juan    30  Barcelona          92\n",
            "3  Carlos    28   Valencia          95\n",
            "4   Sofia    35  Barcelona          88\n"
          ]
        }
      ]
    },
    {
      "cell_type": "markdown",
      "source": [
        "# AGRUPACION Y AGREGACION"
      ],
      "metadata": {
        "id": "JwIpKVfKxTMh"
      }
    },
    {
      "cell_type": "code",
      "source": [
        "resultado = df[df['Edad'] > 25].groupby('Ciudad')['Puntuacion'].max()\n",
        "print(\"\\nMaxima puntuacion por ciudad para personas mayores de 25 años:\")\n",
        "print(resultado)"
      ],
      "metadata": {
        "colab": {
          "base_uri": "https://localhost:8080/"
        },
        "id": "FPtFNktUxQ4z",
        "outputId": "030bbbdb-d8d8-4563-a7b7-a5ad17bce24a"
      },
      "execution_count": 8,
      "outputs": [
        {
          "output_type": "stream",
          "name": "stdout",
          "text": [
            "\n",
            "Maxima puntuacion por ciudad para personas mayores de 25 años:\n",
            "Ciudad\n",
            "Barcelona    92\n",
            "Valencia     95\n",
            "Name: Puntuacion, dtype: int64\n"
          ]
        }
      ]
    }
  ]
}