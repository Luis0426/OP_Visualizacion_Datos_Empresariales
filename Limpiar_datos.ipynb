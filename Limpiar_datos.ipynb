{
  "nbformat": 4,
  "nbformat_minor": 0,
  "metadata": {
    "colab": {
      "provenance": [],
      "authorship_tag": "ABX9TyOXmAZE2vUqnzFvq72rIe+w",
      "include_colab_link": true
    },
    "kernelspec": {
      "name": "python3",
      "display_name": "Python 3"
    },
    "language_info": {
      "name": "python"
    }
  },
  "cells": [
    {
      "cell_type": "markdown",
      "metadata": {
        "id": "view-in-github",
        "colab_type": "text"
      },
      "source": [
        "<a href=\"https://colab.research.google.com/github/Luis0426/OP_Visualizacion_Datos_Empresariales/blob/main/Limpiar_datos.ipynb\" target=\"_parent\"><img src=\"https://colab.research.google.com/assets/colab-badge.svg\" alt=\"Open In Colab\"/></a>"
      ]
    },
    {
      "cell_type": "markdown",
      "source": [
        "# **EDICION DATAFRAME**"
      ],
      "metadata": {
        "id": "Xnn9klg3vOca"
      }
    },
    {
      "cell_type": "markdown",
      "source": [
        "\n",
        "# IMPORTAR LIBRERIAS Y CREAR DATA **FRAME**\n",
        "\n"
      ],
      "metadata": {
        "id": "mWgUeolipgi_"
      }
    },
    {
      "cell_type": "code",
      "execution_count": 5,
      "metadata": {
        "colab": {
          "base_uri": "https://localhost:8080/"
        },
        "id": "QplLSLB6pb_M",
        "outputId": "5e0113be-182b-4cde-90c1-1ffe88d95e21"
      },
      "outputs": [
        {
          "output_type": "stream",
          "name": "stdout",
          "text": [
            "DataFrame Orginial:\n",
            "     A    B  C    D\n",
            "0  1.0  5.0  a  foo\n",
            "1  2.0  6.0  b  bar\n",
            "2  NaN  7.0  c  foo\n",
            "3  4.0  NaN  d  bar\n",
            "4  5.0  9.0  e  foo\n"
          ]
        }
      ],
      "source": [
        "import pandas as pd\n",
        "import numpy as np\n",
        "\n",
        "df = pd.DataFrame({\n",
        "    'A': [1,2, np.nan,4,5],\n",
        "    'B': [5,6,7,np.nan,9],\n",
        "    'C': ['a','b','c','d','e'],\n",
        "    'D': ['foo','bar','foo','bar','foo']\n",
        "})\n",
        "\n",
        "print(\"DataFrame Orginial:\")\n",
        "print(df)\n",
        "\n"
      ]
    },
    {
      "cell_type": "markdown",
      "source": [
        "# LIMPIAR DATA FRAME"
      ],
      "metadata": {
        "id": "TFdnMSyWqnNR"
      }
    },
    {
      "cell_type": "code",
      "source": [
        "df_clean = df.dropna()\n",
        "print(\"DataFrame sin filas nulas:\")\n",
        "print(df_clean)"
      ],
      "metadata": {
        "colab": {
          "base_uri": "https://localhost:8080/"
        },
        "id": "kHVAZk4wqmWi",
        "outputId": "50a4ad5a-3175-4e7c-8bfc-acb161c7a8e0"
      },
      "execution_count": 4,
      "outputs": [
        {
          "output_type": "stream",
          "name": "stdout",
          "text": [
            "DataFrame sin filas nulas:\n",
            "     A    B  C    D\n",
            "0  1.0  5.0  a  foo\n",
            "1  2.0  6.0  b  bar\n",
            "4  5.0  9.0  e  foo\n"
          ]
        }
      ]
    },
    {
      "cell_type": "markdown",
      "source": [
        "# RELLENAR VALORES NULOS"
      ],
      "metadata": {
        "id": "v_vACHYQrOwg"
      }
    },
    {
      "cell_type": "code",
      "source": [
        "df_filled = df.fillna(value={'A': df['A'].mean(),'B': df['B'].median()})\n",
        "print(\"\\nDataFrame con valores nulos rellenados:\")\n",
        "print(df_filled)"
      ],
      "metadata": {
        "colab": {
          "base_uri": "https://localhost:8080/"
        },
        "id": "EvbqLHcRrSEC",
        "outputId": "d0960960-26ed-4363-eaeb-123a25bd9591"
      },
      "execution_count": 6,
      "outputs": [
        {
          "output_type": "stream",
          "name": "stdout",
          "text": [
            "\n",
            "DataFrame con valores nulos rellenados:\n",
            "     A    B  C    D\n",
            "0  1.0  5.0  a  foo\n",
            "1  2.0  6.0  b  bar\n",
            "2  3.0  7.0  c  foo\n",
            "3  4.0  6.5  d  bar\n",
            "4  5.0  9.0  e  foo\n"
          ]
        }
      ]
    },
    {
      "cell_type": "markdown",
      "source": [
        "# ELIMINAR DUPLICADOS"
      ],
      "metadata": {
        "id": "wIoPogHwsS1k"
      }
    },
    {
      "cell_type": "code",
      "source": [
        "df_no_duplicates = df.drop_duplicates(subset='D')\n",
        "print(\"\\nDataFrame sin duplicados en la columna D:\")\n",
        "print(df_no_duplicates)"
      ],
      "metadata": {
        "colab": {
          "base_uri": "https://localhost:8080/"
        },
        "id": "N4GKZrm8sVD7",
        "outputId": "63011747-48b2-4efe-9b2b-2ef71412e86d"
      },
      "execution_count": 7,
      "outputs": [
        {
          "output_type": "stream",
          "name": "stdout",
          "text": [
            "\n",
            "DataFrame sin duplicados en la columna D:\n",
            "     A    B  C    D\n",
            "0  1.0  5.0  a  foo\n",
            "1  2.0  6.0  b  bar\n"
          ]
        }
      ]
    },
    {
      "cell_type": "markdown",
      "source": [
        "# RENOMBRAR COLUMNAS"
      ],
      "metadata": {
        "id": "efoCnY-KumCU"
      }
    },
    {
      "cell_type": "code",
      "source": [
        "df_renamed = df.rename(columns={'A': 'Alpha', 'B': 'Beta','C': 'Charlie', 'D': 'Delta'})\n",
        "print(\"\\nDataFrame con columnas renombradas:\")\n",
        "print(df_renamed)"
      ],
      "metadata": {
        "colab": {
          "base_uri": "https://localhost:8080/"
        },
        "id": "_5nFBH2yupX5",
        "outputId": "0eb84f16-029f-42c6-f4e9-89ffe0cda703"
      },
      "execution_count": 8,
      "outputs": [
        {
          "output_type": "stream",
          "name": "stdout",
          "text": [
            "\n",
            "DataFrame con columnas renombradas:\n",
            "   Alpha  Beta Charlie Delta\n",
            "0    1.0   5.0       a   foo\n",
            "1    2.0   6.0       b   bar\n",
            "2    NaN   7.0       c   foo\n",
            "3    4.0   NaN       d   bar\n",
            "4    5.0   9.0       e   foo\n"
          ]
        }
      ]
    }
  ]
}